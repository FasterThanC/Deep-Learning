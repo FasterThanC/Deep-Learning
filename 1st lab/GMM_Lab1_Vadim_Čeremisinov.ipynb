{
  "cells": [
    {
      "cell_type": "markdown",
      "metadata": {
        "id": "sz2f2LrSIHwA"
      },
      "source": [
        "First Laboratory work\n",
        "\n",
        "Vadim Čeremisinov, 4 grupė, 1 pogrupis\n",
        "LSP 2110545\n",
        "\n",
        "Classes - Duck, Banana, Sea lion\n"
      ]
    },
    {
      "cell_type": "code",
      "execution_count": 15,
      "metadata": {
        "id": "Ks_-4f5fRw_v"
      },
      "outputs": [],
      "source": [
        "import torch\n",
        "from torchvision import datasets\n",
        "from torchvision.transforms import transforms\n",
        "import numpy as np\n",
        "from torchvision import models"
      ]
    },
    {
      "cell_type": "markdown",
      "metadata": {
        "id": "tMYUCo6dpi0a"
      },
      "source": [
        "Setting classes, creating folders for photos from openimages:"
      ]
    },
    {
      "cell_type": "code",
      "execution_count": 16,
      "metadata": {
        "colab": {
          "base_uri": "https://localhost:8080/"
        },
        "id": "G0xOWxD1pifm",
        "outputId": "64daf007-6923-4ab5-e67e-21a39d38422e"
      },
      "outputs": [
        {
          "output_type": "stream",
          "name": "stdout",
          "text": [
            "Requirement already satisfied: openimages in /usr/local/lib/python3.10/dist-packages (0.0.1)\n",
            "Requirement already satisfied: boto3 in /usr/local/lib/python3.10/dist-packages (from openimages) (1.34.46)\n",
            "Requirement already satisfied: cvdata in /usr/local/lib/python3.10/dist-packages (from openimages) (0.0.3)\n",
            "Requirement already satisfied: lxml in /usr/local/lib/python3.10/dist-packages (from openimages) (4.9.4)\n",
            "Requirement already satisfied: pandas in /usr/local/lib/python3.10/dist-packages (from openimages) (1.5.3)\n",
            "Requirement already satisfied: requests in /usr/local/lib/python3.10/dist-packages (from openimages) (2.31.0)\n",
            "Requirement already satisfied: tqdm in /usr/local/lib/python3.10/dist-packages (from openimages) (4.66.2)\n",
            "Requirement already satisfied: botocore<1.35.0,>=1.34.46 in /usr/local/lib/python3.10/dist-packages (from boto3->openimages) (1.34.46)\n",
            "Requirement already satisfied: jmespath<2.0.0,>=0.7.1 in /usr/local/lib/python3.10/dist-packages (from boto3->openimages) (1.0.1)\n",
            "Requirement already satisfied: s3transfer<0.11.0,>=0.10.0 in /usr/local/lib/python3.10/dist-packages (from boto3->openimages) (0.10.0)\n",
            "Requirement already satisfied: numpy in /usr/local/lib/python3.10/dist-packages (from cvdata->openimages) (1.25.2)\n",
            "Requirement already satisfied: opencv-python in /usr/local/lib/python3.10/dist-packages (from cvdata->openimages) (4.8.0.76)\n",
            "Requirement already satisfied: pillow in /usr/local/lib/python3.10/dist-packages (from cvdata->openimages) (9.4.0)\n",
            "Requirement already satisfied: python-dateutil>=2.8.1 in /usr/local/lib/python3.10/dist-packages (from pandas->openimages) (2.8.2)\n",
            "Requirement already satisfied: pytz>=2020.1 in /usr/local/lib/python3.10/dist-packages (from pandas->openimages) (2023.4)\n",
            "Requirement already satisfied: charset-normalizer<4,>=2 in /usr/local/lib/python3.10/dist-packages (from requests->openimages) (3.3.2)\n",
            "Requirement already satisfied: idna<4,>=2.5 in /usr/local/lib/python3.10/dist-packages (from requests->openimages) (3.6)\n",
            "Requirement already satisfied: urllib3<3,>=1.21.1 in /usr/local/lib/python3.10/dist-packages (from requests->openimages) (2.0.7)\n",
            "Requirement already satisfied: certifi>=2017.4.17 in /usr/local/lib/python3.10/dist-packages (from requests->openimages) (2024.2.2)\n",
            "Requirement already satisfied: six>=1.5 in /usr/local/lib/python3.10/dist-packages (from python-dateutil>=2.8.1->pandas->openimages) (1.16.0)\n"
          ]
        }
      ],
      "source": [
        "%pip install openimages\n",
        "import os\n",
        "from openimages.download import download_dataset\n",
        "\n",
        "data_dir = \"data\"\n",
        "number_for_samples = 340\n",
        "classes = [\"Lemon\", \"Banana\", \"Sea lion\"]   #Lemon, Orange\n",
        "\n",
        "if os.path.exists(data_dir):\n",
        "  pass\n",
        "elif not os.path.exists(data_dir):\n",
        "  os.makedirs(data_dir)"
      ]
    },
    {
      "cell_type": "markdown",
      "metadata": {
        "id": "mJI4h3XypiFu"
      },
      "source": [
        "Downloading photos of chosen classes from openimages with download_dataset:"
      ]
    },
    {
      "cell_type": "code",
      "execution_count": null,
      "metadata": {
        "id": "FRhOJ0P0ph8K"
      },
      "outputs": [],
      "source": [
        "download_dataset(data_dir, classes, limit=number_for_samples)"
      ]
    },
    {
      "cell_type": "markdown",
      "metadata": {
        "id": "sVm-hzTYrTDB"
      },
      "source": [
        "Transforming/standartizing downloaded photos:"
      ]
    },
    {
      "cell_type": "code",
      "execution_count": null,
      "metadata": {
        "id": "G72bfiwISGzK"
      },
      "outputs": [],
      "source": [
        "normalize = transforms.Normalize(mean=[0.485, 0.456, 0.406],\n",
        "std=[0.229, 0.224, 0.225])\n",
        "\n",
        "all_transforms = transforms.Compose([\n",
        "transforms.Resize((224, 224)),\n",
        "transforms.ToTensor(),\n",
        "normalize,\n",
        "])"
      ]
    },
    {
      "cell_type": "markdown",
      "metadata": {
        "id": "HJIRHg-5lILS"
      },
      "source": [
        "Creating dataset:"
      ]
    },
    {
      "cell_type": "code",
      "execution_count": null,
      "metadata": {
        "id": "1nMSSkUHhc0S"
      },
      "outputs": [],
      "source": [
        "dataset = datasets.ImageFolder(root='data', transform=all_transforms)"
      ]
    },
    {
      "cell_type": "markdown",
      "metadata": {
        "id": "3oQszyuxsXP7"
      },
      "source": [
        "Loading photos batch into batch_loader:"
      ]
    },
    {
      "cell_type": "code",
      "execution_count": null,
      "metadata": {
        "id": "Gi9cN6CcsXGk"
      },
      "outputs": [],
      "source": [
        "batch_loader = torch.utils.data.DataLoader(dataset, batch_size=64, shuffle=True, num_workers=2)"
      ]
    },
    {
      "cell_type": "markdown",
      "metadata": {
        "id": "x-6G7_7TSFzg"
      },
      "source": [
        "GPU sanity check:"
      ]
    },
    {
      "cell_type": "code",
      "execution_count": null,
      "metadata": {
        "id": "YOYvq5XnSGOG"
      },
      "outputs": [],
      "source": [
        "torch.cuda.is_available()"
      ]
    },
    {
      "cell_type": "markdown",
      "metadata": {
        "id": "2JlsGRX8SGbY"
      },
      "source": [
        "Initializing neural network model:"
      ]
    },
    {
      "cell_type": "code",
      "execution_count": null,
      "metadata": {
        "id": "vr23TpHgSGku"
      },
      "outputs": [],
      "source": [
        "model = models.vgg16(pretrained = True)\n",
        "model.to(\"cuda\")\n",
        "model.eval()"
      ]
    },
    {
      "cell_type": "markdown",
      "metadata": {
        "id": "BI7xJT7cSHFA"
      },
      "source": [
        "Metrics calculation function:\n",
        "\n"
      ]
    },
    {
      "cell_type": "code",
      "execution_count": null,
      "metadata": {
        "id": "U9OOOmHnSHLU"
      },
      "outputs": [],
      "source": [
        "def calculate_metrics(ground_truth, predictions, threshold = 0.9):\n",
        "  predictions_thresholded = (predictions > threshold).astype(np.float64)\n",
        "  TP = np.sum(np.bitwise_and(ground_truth == 1, predictions_thresholded == 1))\n",
        "  TN = np.sum(np.bitwise_and(ground_truth == 0, predictions_thresholded == 0))\n",
        "  FP = np.sum(np.bitwise_and(ground_truth == 0, predictions_thresholded == 1))\n",
        "  FN = np.sum(np.bitwise_and(ground_truth == 1, predictions_thresholded == 0))\n",
        "  metrics = {}\n",
        "  metrics['accuracy'] = (TP + TN) / (TP + FP + TN + FN)\n",
        "  metrics['recall'] = TP / (TP + FN)\n",
        "  metrics['precision'] = TP / (TP + FP)\n",
        "  metrics['f1'] = 2 * (metrics['precision'] * metrics['recall']) / (metrics['precision'] + metrics['recall'])\n",
        "  return metrics"
      ]
    },
    {
      "cell_type": "markdown",
      "metadata": {
        "id": "Q-RvD2SJyJTP"
      },
      "source": [
        "Additional functions for probabilities counting:"
      ]
    },
    {
      "cell_type": "code",
      "execution_count": null,
      "metadata": {
        "id": "UsR06mRSVQ24"
      },
      "outputs": [],
      "source": [
        "def calculate_prob(arr2D, class_id, label_arr, class_label):\n",
        "  result = []\n",
        "  label_bool = 1.0\n",
        "  for i in range(0, len(label_arr)):\n",
        "    if class_label == label_arr[i]:\n",
        "      label_bool = 1.0\n",
        "    else:\n",
        "      label_bool = 0.0\n",
        "    result.append((arr2D[i][class_id], label_bool))\n",
        "  return result\n",
        "\n",
        "def extract_prob(arr):\n",
        "  result = []\n",
        "  for prob, truth in arr:\n",
        "    result.append(prob)\n",
        "  return result\n",
        "\n",
        "def extract_gt(arr):\n",
        "  result = []\n",
        "  for prob, truth in arr:\n",
        "    result.append(truth)\n",
        "  return result\n",
        "\n",
        "def extractAndCalculate(gt_prob_list, threshold):\n",
        "  gt_list = extract_gt(gt_prob_list)\n",
        "  pred_list = extract_prob(gt_prob_list)\n",
        "  return calculate_metrics(np.array(gt_list), np.array(pred_list), threshold)\n"
      ]
    },
    {
      "cell_type": "markdown",
      "metadata": {
        "id": "zrZqvNYAnxP8"
      },
      "source": [
        "Setting threshold value:\n"
      ]
    },
    {
      "cell_type": "code",
      "execution_count": null,
      "metadata": {
        "id": "erTjUMOonw5D"
      },
      "outputs": [],
      "source": [
        "threshold = 0.95"
      ]
    },
    {
      "cell_type": "markdown",
      "metadata": {
        "id": "toW-y3AftdF5"
      },
      "source": [
        "Counting accuracy, recall, precision and F1 metrics:\n",
        "\n"
      ]
    },
    {
      "cell_type": "code",
      "execution_count": null,
      "metadata": {
        "id": "gI_6TjOtyJI0"
      },
      "outputs": [],
      "source": [
        "probabilities_list = []\n",
        "labels_list = []\n",
        "\n",
        "lemon_class_id = 951\n",
        "banana_class_id = 954\n",
        "sea_lion_class_id = 150\n",
        "\n",
        "\n",
        "duck_truth_probablity_list = []\n",
        "banana_truth_probablity_list = []\n",
        "sea_lion_truth_probablity_list = []\n",
        "\n",
        "for images, labels in batch_loader:\n",
        "  images, labels = images.cuda(), labels.cuda()\n",
        "  outputs = model(images)\n",
        "  probabilities = torch.sigmoid(outputs).detach().cpu().numpy()\n",
        "  labels_array = labels.cpu().numpy()\n",
        "\n",
        "  duck_truth_probablity_list.extend(calculate_prob(probabilities, lemon_class_id, labels_array, 0))\n",
        "  banana_truth_probablity_list.extend(calculate_prob(probabilities, banana_class_id, labels_array, 1))\n",
        "  sea_lion_truth_probablity_list.extend(calculate_prob(probabilities, sea_lion_class_id, labels_array, 2))\n",
        "\n",
        "\n",
        "print(f\"Duck statistics: {extractAndCalculate(duck_truth_probablity_list, threshold)}\")\n",
        "print(f\"Banana statistics: {extractAndCalculate(banana_truth_probablity_list, threshold)}\")\n",
        "print(f\"Sea lion statistics: {extractAndCalculate(sea_lion_truth_probablity_list, threshold)}\")\n"
      ]
    }
  ],
  "metadata": {
    "accelerator": "GPU",
    "colab": {
      "gpuType": "T4",
      "provenance": []
    },
    "kernelspec": {
      "display_name": "Python 3",
      "name": "python3"
    },
    "language_info": {
      "codemirror_mode": {
        "name": "ipython",
        "version": 3
      },
      "file_extension": ".py",
      "mimetype": "text/x-python",
      "name": "python",
      "nbconvert_exporter": "python",
      "pygments_lexer": "ipython3",
      "version": "3.11.5"
    }
  },
  "nbformat": 4,
  "nbformat_minor": 0
}