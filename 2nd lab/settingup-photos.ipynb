{
 "cells": [
  {
   "cell_type": "code",
   "execution_count": 2,
   "metadata": {},
   "outputs": [],
   "source": [
    "import os\n",
    "from openimages.download import download_dataset\n",
    "import shutil\n",
    "from sklearn.model_selection import train_test_split"
   ]
  },
  {
   "cell_type": "code",
   "execution_count": 2,
   "metadata": {},
   "outputs": [],
   "source": [
    "data_dir = \"data\"\n",
    "classes = [\"Banana\", \"Duck\", \"Sea lion\"]"
   ]
  },
  {
   "cell_type": "code",
   "execution_count": 3,
   "metadata": {},
   "outputs": [
    {
     "name": "stdout",
     "output_type": "stream",
     "text": [
      "Downloading is starting...\n"
     ]
    },
    {
     "name": "stderr",
     "output_type": "stream",
     "text": [
      "2024-03-25  00:15:52 INFO Downloading 570 train images for class 'banana'\n",
      "100%|██████████| 570/570 [00:21<00:00, 26.79it/s]\n",
      "2024-03-25  00:16:13 INFO Downloading 1151 train images for class 'duck'\n",
      "100%|██████████| 1151/1151 [00:41<00:00, 27.54it/s]\n",
      "2024-03-25  00:16:55 INFO Downloading 200 train images for class 'sea lion'\n",
      "100%|██████████| 200/200 [00:09<00:00, 22.10it/s]\n",
      "2024-03-25  00:17:06 INFO Downloading 3 validation images for class 'banana'\n",
      "100%|██████████| 3/3 [00:01<00:00,  1.71it/s]\n",
      "2024-03-25  00:17:08 INFO Downloading 37 validation images for class 'duck'\n",
      "100%|██████████| 37/37 [00:03<00:00, 11.97it/s]\n",
      "2024-03-25  00:17:11 INFO Downloading 14 validation images for class 'sea lion'\n",
      "100%|██████████| 14/14 [00:02<00:00,  6.59it/s]\n",
      "2024-03-25  00:17:16 INFO Downloading 16 test images for class 'banana'\n",
      "100%|██████████| 16/16 [00:02<00:00,  7.47it/s]\n",
      "2024-03-25  00:17:19 INFO Downloading 101 test images for class 'duck'\n",
      "100%|██████████| 101/101 [00:04<00:00, 20.78it/s]\n",
      "2024-03-25  00:17:24 INFO Downloading 37 test images for class 'sea lion'\n",
      "100%|██████████| 37/37 [00:02<00:00, 12.73it/s]\n"
     ]
    },
    {
     "data": {
      "text/plain": [
       "{'banana': {'images_dir': 'data\\\\banana\\\\images'},\n",
       " 'duck': {'images_dir': 'data\\\\duck\\\\images'},\n",
       " 'sea lion': {'images_dir': 'data\\\\sea lion\\\\images'}}"
      ]
     },
     "execution_count": 3,
     "metadata": {},
     "output_type": "execute_result"
    }
   ],
   "source": [
    "if not os.path.exists(data_dir):\n",
    "    os.makedirs(data_dir)\n",
    "\n",
    "print(\"Downloading is starting...\")\n",
    "download_dataset(data_dir, classes, limit=1500)"
   ]
  },
  {
   "cell_type": "markdown",
   "metadata": {},
   "source": [
    "Dividing photos into Training, Validation and Testing parts:"
   ]
  },
  {
   "cell_type": "code",
   "execution_count": 4,
   "metadata": {},
   "outputs": [],
   "source": [
    "train_dir = 'train'\n",
    "val_dir = 'validation'\n",
    "test_dir = 'test'\n",
    "\n",
    "for dir in [train_dir, val_dir, test_dir]:\n",
    "    if not os.path.exists(dir):\n",
    "        os.makedirs(dir)\n",
    "\n",
    "for class_name in classes:\n",
    "    class_name = class_name.lower()\n",
    "\n",
    "    for dir in [train_dir, val_dir, test_dir]:\n",
    "        class_dir = os.path.join(dir, class_name)\n",
    "        if not os.path.exists(class_dir):\n",
    "            os.makedirs(class_dir)\n",
    "\n",
    "    data_class_dir = os.path.join(data_dir, class_name)\n",
    "    data_class_dir = os.path.join(data_class_dir, \"images\")\n",
    "\n",
    "    filenames = os.listdir(data_class_dir)\n",
    "    filenames = [f for f in filenames if os.path.isfile(os.path.join(data_class_dir, f))]\n",
    "\n",
    "    train_files, test_files = train_test_split(filenames, test_size=0.3, random_state=42)\n",
    "    val_files, test_files = train_test_split(test_files, test_size=0.5, random_state=42)\n",
    "\n",
    "    def copy_files(files, src_dir, dest_dir):\n",
    "        for f in files:\n",
    "            shutil.copy(os.path.join(src_dir, f), os.path.join(dest_dir, f))\n",
    "\n",
    "    copy_files(train_files, data_class_dir, os.path.join(train_dir, class_name))\n",
    "    copy_files(val_files, data_class_dir, os.path.join(val_dir, class_name))\n",
    "    copy_files(test_files, data_class_dir, os.path.join(test_dir, class_name))"
   ]
  },
  {
   "cell_type": "markdown",
   "metadata": {},
   "source": [
    "When model is being trained, data folder is not needed, so it can be deleted:"
   ]
  },
  {
   "cell_type": "code",
   "execution_count": 5,
   "metadata": {},
   "outputs": [],
   "source": [
    "# if os.path.exists(data_dir):\n",
    "#     shutil.rmtree(data_dir)"
   ]
  },
  {
   "cell_type": "markdown",
   "metadata": {},
   "source": [
    "Counting how many photos of a particular class is in the folder of that class:"
   ]
  },
  {
   "cell_type": "code",
   "execution_count": 5,
   "metadata": {},
   "outputs": [
    {
     "name": "stdout",
     "output_type": "stream",
     "text": [
      "1289 photos in the directory.\n"
     ]
    }
   ],
   "source": [
    "root = 'data/duck'\n",
    "\n",
    "photo_count = 0\n",
    "\n",
    "for subdir, dirs, files in os.walk(root):\n",
    "    for file in files:\n",
    "        if file.lower().endswith('.jpg'):\n",
    "            photo_count += 1\n",
    "\n",
    "print(f'{photo_count} photos in the directory.')"
   ]
  }
 ],
 "metadata": {
  "kernelspec": {
   "display_name": "myenv",
   "language": "python",
   "name": "python3"
  },
  "language_info": {
   "codemirror_mode": {
    "name": "ipython",
    "version": 3
   },
   "file_extension": ".py",
   "mimetype": "text/x-python",
   "name": "python",
   "nbconvert_exporter": "python",
   "pygments_lexer": "ipython3",
   "version": "3.10.13"
  }
 },
 "nbformat": 4,
 "nbformat_minor": 2
}
